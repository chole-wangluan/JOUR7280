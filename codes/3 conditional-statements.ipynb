{
 "cells": [
  {
   "cell_type": "markdown",
   "metadata": {},
   "source": [
    "# Conditional statements\n",
    "## if statement\n",
    "### One-way decisions"
   ]
  },
  {
   "cell_type": "code",
   "execution_count": 1,
   "metadata": {},
   "outputs": [
    {
     "name": "stdout",
     "output_type": "stream",
     "text": [
      "Smaller\n",
      "Finish\n"
     ]
    }
   ],
   "source": [
    "x = 5\n",
    "if x < 10:\n",
    "   print('Smaller') \n",
    "if x > 20:\n",
    "   print('Bigger')\n",
    "\n",
    "print('Finish')"
   ]
  },
  {
   "cell_type": "code",
   "execution_count": 2,
   "metadata": {},
   "outputs": [
    {
     "name": "stdout",
     "output_type": "stream",
     "text": [
      "Equals 5\n",
      "Greater than 4\n",
      "Greater than or Equals 5\n",
      "Less than 6\n",
      "Less than or Equals 5\n",
      "Not equal 6\n"
     ]
    }
   ],
   "source": [
    "x = 5\n",
    "if x == 5:\n",
    "    print('Equals 5')\n",
    "if x > 4:\n",
    "    print('Greater than 4')\n",
    "if x >= 5:\n",
    "    print('Greater than or Equals 5')\n",
    "if x < 6: print('Less than 6')\n",
    "if x <= 5:\n",
    "    print('Less than or Equals 5')\n",
    "if x != 6:\n",
    "    print('Not equal 6')"
   ]
  },
  {
   "cell_type": "code",
   "execution_count": 3,
   "metadata": {},
   "outputs": [
    {
     "name": "stdout",
     "output_type": "stream",
     "text": [
      "Before 5\n",
      "Is 5\n",
      "Is Still 5\n",
      "Third 5\n",
      "Afterwords 5\n",
      "Before 6\n",
      "Afterwords 5\n"
     ]
    }
   ],
   "source": [
    "x = 5 \n",
    "print('Before 5') \n",
    "if x == 5:\n",
    "    print('Is 5')\n",
    "    print('Is Still 5')\n",
    "    print('Third 5') \n",
    "print('Afterwords 5')\n",
    "print('Before 6')\n",
    "if x == 6:\n",
    "    print('Is 6')\n",
    "    print('Is Still 6')\n",
    "    print('Third 6')\n",
    "print('Afterwords 5')"
   ]
  },
  {
   "cell_type": "markdown",
   "metadata": {},
   "source": [
    "### Nested decisions"
   ]
  },
  {
   "cell_type": "code",
   "execution_count": 4,
   "metadata": {},
   "outputs": [
    {
     "name": "stdout",
     "output_type": "stream",
     "text": [
      "More than one\n",
      "Less than 100\n",
      "All done\n"
     ]
    }
   ],
   "source": [
    "x = 42 \n",
    "if x > 1 :\n",
    "    print('More than one')\n",
    "    if x < 100 :\n",
    "        print('Less than 100') \n",
    "print('All done')"
   ]
  },
  {
   "cell_type": "markdown",
   "metadata": {},
   "source": [
    "### Two-way decisions: else"
   ]
  },
  {
   "cell_type": "code",
   "execution_count": 5,
   "metadata": {},
   "outputs": [
    {
     "name": "stdout",
     "output_type": "stream",
     "text": [
      "Bigger\n",
      "All done\n"
     ]
    }
   ],
   "source": [
    "x = 4\n",
    "if x > 2:\n",
    "   print('Bigger') \n",
    "else:\n",
    "   print('Smaller')\n",
    "\n",
    "print('All done')"
   ]
  },
  {
   "cell_type": "markdown",
   "metadata": {},
   "source": [
    "### Multi-way"
   ]
  },
  {
   "cell_type": "code",
   "execution_count": 6,
   "metadata": {},
   "outputs": [
    {
     "name": "stdout",
     "output_type": "stream",
     "text": [
      "small\n",
      "All done\n"
     ]
    }
   ],
   "source": [
    "x = 0 \n",
    "if x < 2 :\n",
    "    print('small') \n",
    "elif x < 10 :\n",
    "    print('Medium') \n",
    "else :\n",
    "    print('LARGE') \n",
    "    \n",
    "print('All done')"
   ]
  },
  {
   "cell_type": "markdown",
   "metadata": {},
   "source": [
    "### Multi-way Puzzles"
   ]
  },
  {
   "cell_type": "code",
   "execution_count": 7,
   "metadata": {},
   "outputs": [
    {
     "name": "stdout",
     "output_type": "stream",
     "text": [
      "Below 2\n",
      "Below 2\n"
     ]
    }
   ],
   "source": [
    "if x < 2 :\n",
    "    print('Below 2') \n",
    "elif x >= 2 :\n",
    "    print('Two or more')\n",
    "else :\n",
    "    print('Something else') \n",
    "\n",
    "if x < 2 :\n",
    "    print('Below 2') \n",
    "elif x < 20 :\n",
    "    print('Below 20')\n",
    "elif x < 10 :\n",
    "    print('Below 10')\n",
    "else :\n",
    "    print('Something else') "
   ]
  },
  {
   "cell_type": "markdown",
   "metadata": {},
   "source": [
    "### The try/except structure"
   ]
  },
  {
   "cell_type": "code",
   "execution_count": 8,
   "metadata": {},
   "outputs": [
    {
     "ename": "ValueError",
     "evalue": "invalid literal for int() with base 10: 'Hello Bob'",
     "output_type": "error",
     "traceback": [
      "\u001b[0;31m---------------------------------------------------------------------------\u001b[0m",
      "\u001b[0;31mValueError\u001b[0m                                Traceback (most recent call last)",
      "\u001b[0;32m<ipython-input-8-f2a21bd5ef4e>\u001b[0m in \u001b[0;36m<module>\u001b[0;34m\u001b[0m\n\u001b[1;32m      1\u001b[0m \u001b[0mastr\u001b[0m \u001b[0;34m=\u001b[0m \u001b[0;34m'Hello Bob'\u001b[0m\u001b[0;34m\u001b[0m\u001b[0;34m\u001b[0m\u001b[0m\n\u001b[0;32m----> 2\u001b[0;31m \u001b[0mistr\u001b[0m \u001b[0;34m=\u001b[0m \u001b[0mint\u001b[0m\u001b[0;34m(\u001b[0m\u001b[0mastr\u001b[0m\u001b[0;34m)\u001b[0m\u001b[0;34m\u001b[0m\u001b[0;34m\u001b[0m\u001b[0m\n\u001b[0m\u001b[1;32m      3\u001b[0m \u001b[0mprint\u001b[0m\u001b[0;34m(\u001b[0m\u001b[0;34m'First'\u001b[0m\u001b[0;34m,\u001b[0m \u001b[0mistr\u001b[0m\u001b[0;34m)\u001b[0m\u001b[0;34m\u001b[0m\u001b[0;34m\u001b[0m\u001b[0m\n\u001b[1;32m      4\u001b[0m \u001b[0mastr\u001b[0m \u001b[0;34m=\u001b[0m \u001b[0;34m'123'\u001b[0m\u001b[0;34m\u001b[0m\u001b[0;34m\u001b[0m\u001b[0m\n\u001b[1;32m      5\u001b[0m \u001b[0mistr\u001b[0m \u001b[0;34m=\u001b[0m \u001b[0mint\u001b[0m\u001b[0;34m(\u001b[0m\u001b[0mastr\u001b[0m\u001b[0;34m)\u001b[0m\u001b[0;34m\u001b[0m\u001b[0;34m\u001b[0m\u001b[0m\n",
      "\u001b[0;31mValueError\u001b[0m: invalid literal for int() with base 10: 'Hello Bob'"
     ]
    }
   ],
   "source": [
    "astr = 'Hello Bob'\n",
    "istr = int(astr)\n",
    "print('First', istr)\n",
    "astr = '123'\n",
    "istr = int(astr)\n",
    "print('First', istr)"
   ]
  },
  {
   "cell_type": "code",
   "execution_count": 9,
   "metadata": {},
   "outputs": [
    {
     "name": "stdout",
     "output_type": "stream",
     "text": [
      "First -1\n",
      "Second 123\n"
     ]
    }
   ],
   "source": [
    "astr = 'Hello Bob'\n",
    "try:\n",
    "    istr = int(astr)\n",
    "except:\n",
    "    istr = -1\n",
    "print('First', istr)\n",
    "\n",
    "astr = '123'\n",
    "try:\n",
    "    istr = int(astr)\n",
    "except:\n",
    "    istr = -1\n",
    "print('Second', istr)"
   ]
  },
  {
   "cell_type": "markdown",
   "metadata": {},
   "source": [
    "- Below is not a very good try/except, we don't need to put non-dangerous lines inside the \"try\""
   ]
  },
  {
   "cell_type": "code",
   "execution_count": 10,
   "metadata": {},
   "outputs": [
    {
     "name": "stdout",
     "output_type": "stream",
     "text": [
      "Hello\n",
      "Done -1\n"
     ]
    }
   ],
   "source": [
    "astr = 'Bob'\n",
    "try:\n",
    "    print('Hello')\n",
    "    istr = int(astr)\n",
    "    print('There')\n",
    "except:\n",
    "    istr = -1\n",
    "\n",
    "print('Done', istr)"
   ]
  },
  {
   "cell_type": "code",
   "execution_count": 12,
   "metadata": {},
   "outputs": [
    {
     "name": "stdout",
     "output_type": "stream",
     "text": [
      "Enter a number: 1\n",
      "Nice work\n"
     ]
    }
   ],
   "source": [
    "rawstr = input('Enter a number: ')\n",
    "try:\n",
    "    ival = int(rawstr)\n",
    "except:\n",
    "    ival = -1\n",
    "\n",
    "if ival > 0:\n",
    "    print('Nice work')\n",
    "else:\n",
    "    print('Not a number')"
   ]
  },
  {
   "cell_type": "code",
   "execution_count": null,
   "metadata": {},
   "outputs": [],
   "source": []
  }
 ],
 "metadata": {
  "kernelspec": {
   "display_name": "python38",
   "language": "python",
   "name": "python38"
  },
  "language_info": {
   "codemirror_mode": {
    "name": "ipython",
    "version": 3
   },
   "file_extension": ".py",
   "mimetype": "text/x-python",
   "name": "python",
   "nbconvert_exporter": "python",
   "pygments_lexer": "ipython3",
   "version": "3.8.5"
  }
 },
 "nbformat": 4,
 "nbformat_minor": 2
}
