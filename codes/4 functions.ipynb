{
 "cells": [
  {
   "cell_type": "markdown",
   "metadata": {},
   "source": [
    "# Functions examples"
   ]
  },
  {
   "cell_type": "code",
   "execution_count": null,
   "metadata": {},
   "outputs": [],
   "source": [
    "def thing():\n",
    "    print('Hello')\n",
    "    print('Fun')\n",
    "\n",
    "thing()\n",
    "print('zip')\n",
    "thing()"
   ]
  },
  {
   "cell_type": "code",
   "execution_count": null,
   "metadata": {},
   "outputs": [],
   "source": [
    "big = max('hello world')\n",
    "print(big)\n",
    "tiny = min('hello world')\n",
    "print(tiny)"
   ]
  },
  {
   "cell_type": "code",
   "execution_count": null,
   "metadata": {},
   "outputs": [],
   "source": [
    "print(float(99) / 100)\n",
    "i = 42\n",
    "type(i)\n",
    "f = float(i)\n",
    "print(f)\n",
    "type(f)\n",
    "print(1 + 2 * float(3) / 4 - 5)"
   ]
  },
  {
   "cell_type": "code",
   "execution_count": null,
   "metadata": {},
   "outputs": [],
   "source": [
    "x = 5\n",
    "print('Hello')\n",
    "\n",
    "def print_lyrics():\n",
    "    print(\"I'm a lumberjack and I'm OK\")\n",
    "    print(\"I sleep all night and I work all day\")\n",
    "    \n",
    "print('Yo')\n",
    "print_lyrics()\n",
    "x = x + 2\n",
    "print(x)"
   ]
  },
  {
   "cell_type": "code",
   "execution_count": null,
   "metadata": {},
   "outputs": [],
   "source": [
    "def greet(lang):\n",
    "    if lang == 'es':\n",
    "        print('Hola')\n",
    "    elif lang == 'fr':\n",
    "        print('Bonjour')\n",
    "    else:\n",
    "        print('Hello')\n",
    "\n",
    "greet('en')\n",
    "greet('es')\n",
    "greet('fr')"
   ]
  },
  {
   "cell_type": "code",
   "execution_count": null,
   "metadata": {},
   "outputs": [],
   "source": [
    "def greeting():\n",
    "    return 'Hello'\n",
    "\n",
    "print(greeting(), 'Glenn')\n",
    "print(greeting(), 'Sally')"
   ]
  },
  {
   "cell_type": "code",
   "execution_count": null,
   "metadata": {},
   "outputs": [],
   "source": [
    "def greet_with_return(lang):\n",
    "    if lang == 'es':\n",
    "        return 'Hola'\n",
    "    elif lang == 'fr':\n",
    "        return 'Bonjour'\n",
    "    else:\n",
    "        return 'Hello'\n",
    "\n",
    "print(greet_with_return('en'), 'Glenn')\n",
    "print(greet_with_return('es'), 'Sally')\n",
    "print(greet_with_return('fr'), 'Michael')"
   ]
  },
  {
   "cell_type": "code",
   "execution_count": null,
   "metadata": {},
   "outputs": [],
   "source": [
    "def addtwo(a, b):\n",
    "    added = a + b\n",
    "    return added\n",
    "\n",
    "x = addtwo(3, 5)\n",
    "print(x)"
   ]
  }
 ],
 "metadata": {
  "kernelspec": {
   "display_name": "Python 3",
   "language": "python",
   "name": "python3"
  },
  "language_info": {
   "codemirror_mode": {
    "name": "ipython",
    "version": 3
   },
   "file_extension": ".py",
   "mimetype": "text/x-python",
   "name": "python",
   "nbconvert_exporter": "python",
   "pygments_lexer": "ipython3",
   "version": "3.8.3"
  }
 },
 "nbformat": 4,
 "nbformat_minor": 2
}
